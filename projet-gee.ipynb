{
 "cells": [
  {
   "cell_type": "code",
   "execution_count": null,
   "metadata": {},
   "outputs": [],
   "source": [
    "!pip install earthengine-api geemap --upgrade"
   ]
  },
  {
   "cell_type": "code",
   "execution_count": 35,
   "metadata": {},
   "outputs": [
    {
     "data": {
      "text/html": [
       "\n",
       "            <style>\n",
       "                .geemap-dark {\n",
       "                    --jp-widgets-color: white;\n",
       "                    --jp-widgets-label-color: white;\n",
       "                    --jp-ui-font-color1: white;\n",
       "                    --jp-layout-color2: #454545;\n",
       "                    background-color: #383838;\n",
       "                }\n",
       "                    \n",
       "                .geemap-dark .jupyter-button {\n",
       "                    --jp-layout-color3: #383838;\n",
       "                }\n",
       "                \n",
       "                .geemap-colab {\n",
       "                    background-color: var(--colab-primary-surface-color, white);\n",
       "                }\n",
       "                    \n",
       "                .geemap-colab .jupyter-button {\n",
       "                    --jp-layout-color3: var(--colab-primary-surface-color, white);\n",
       "                }\n",
       "            </style>\n",
       "            "
      ],
      "text/plain": [
       "<IPython.core.display.HTML object>"
      ]
     },
     "metadata": {},
     "output_type": "display_data"
    }
   ],
   "source": [
    "import ee\n",
    "\n",
    "ee.Initialize(project=\"ee-romdijoux\")\n",
    "\n",
    "# Collect Vertical Transmit-Vertical Receive (VV) and Vertical Transmit-Horizontal Receive (VH) bands from Sentinel-1 at 10m resolution.\n",
    "# https://developers.google.com/earth-engine/datasets/catalog/COPERNICUS_S1_GRD#description\n",
    "sentinel1 = (\n",
    "    ee.ImageCollection(\"COPERNICUS/S1_GRD\")\n",
    "    .filter(ee.Filter.listContains(\"transmitterReceiverPolarisation\", \"VV\"))\n",
    "    .filter(ee.Filter.listContains(\"transmitterReceiverPolarisation\", \"VH\"))\n",
    "    .filter(ee.Filter.eq(\"resolution_meters\", 10))\n",
    "    .select([\"VV\", \"VH\"])\n",
    ")\n",
    "\n",
    "# Load Sentinel-2 Level 1C data, only RGB bands (B4, B3, and B2) captured at 10m resolution\n",
    "# https://developers.google.com/earth-engine/datasets/catalog/COPERNICUS_S2#description\n",
    "sentinel2 = ee.ImageCollection(\"COPERNICUS/S2\").select([\"B4\", \"B3\", \"B2\"])\n"
   ]
  },
  {
   "cell_type": "code",
   "execution_count": 77,
   "metadata": {},
   "outputs": [
    {
     "data": {
      "text/html": [
       "\n",
       "            <style>\n",
       "                .geemap-dark {\n",
       "                    --jp-widgets-color: white;\n",
       "                    --jp-widgets-label-color: white;\n",
       "                    --jp-ui-font-color1: white;\n",
       "                    --jp-layout-color2: #454545;\n",
       "                    background-color: #383838;\n",
       "                }\n",
       "                    \n",
       "                .geemap-dark .jupyter-button {\n",
       "                    --jp-layout-color3: #383838;\n",
       "                }\n",
       "                \n",
       "                .geemap-colab {\n",
       "                    background-color: var(--colab-primary-surface-color, white);\n",
       "                }\n",
       "                    \n",
       "                .geemap-colab .jupyter-button {\n",
       "                    --jp-layout-color3: var(--colab-primary-surface-color, white);\n",
       "                }\n",
       "            </style>\n",
       "            "
      ],
      "text/plain": [
       "<IPython.core.display.HTML object>"
      ]
     },
     "metadata": {},
     "output_type": "display_data"
    }
   ],
   "source": [
    "def sampleSentinelData(location, date):\n",
    "    start_date = date.advance(-15, \"days\")\n",
    "    end_date = date.advance(15, \"days\")\n",
    "\n",
    "    print(\"Location : \", location.getInfo())\n",
    "\n",
    "    sentinel1_image = (\n",
    "        sentinel1.filterDate(start_date, end_date).filterBounds(location).first()\n",
    "    )\n",
    "    sentinel2_image = (\n",
    "        sentinel2.filterDate(start_date, end_date).filterBounds(sentinel1_image.geometry().centroid()).first()\n",
    "    )\n",
    "\n",
    "    sentinel1_image_clipped = sentinel1_image.clip(sentinel2_image.geometry())\n",
    "    sentinel2_image_clipped = sentinel2_image.clip(sentinel1_image_clipped.geometry())\n",
    "\n",
    "    return (sentinel1_image_clipped, sentinel2_image_clipped)"
   ]
  },
  {
   "cell_type": "code",
   "execution_count": 78,
   "metadata": {},
   "outputs": [
    {
     "data": {
      "text/html": [
       "\n",
       "            <style>\n",
       "                .geemap-dark {\n",
       "                    --jp-widgets-color: white;\n",
       "                    --jp-widgets-label-color: white;\n",
       "                    --jp-ui-font-color1: white;\n",
       "                    --jp-layout-color2: #454545;\n",
       "                    background-color: #383838;\n",
       "                }\n",
       "                    \n",
       "                .geemap-dark .jupyter-button {\n",
       "                    --jp-layout-color3: #383838;\n",
       "                }\n",
       "                \n",
       "                .geemap-colab {\n",
       "                    background-color: var(--colab-primary-surface-color, white);\n",
       "                }\n",
       "                    \n",
       "                .geemap-colab .jupyter-button {\n",
       "                    --jp-layout-color3: var(--colab-primary-surface-color, white);\n",
       "                }\n",
       "            </style>\n",
       "            "
      ],
      "text/plain": [
       "<IPython.core.display.HTML object>"
      ]
     },
     "metadata": {},
     "output_type": "display_data"
    }
   ],
   "source": [
    "from datetime import datetime, timedelta\n",
    "\n",
    "## TODO: add more location, this is returing locations mostly in France but can be in the ocean or in neighboring countries too\n",
    "def sampleCoord():\n",
    "    return [random.uniform(-5.0, 9.0), random.uniform(42.0, 51.0)]\n",
    "\n",
    "\n",
    "def sampleDate(start_date, end_date):\n",
    "    start_datetime = datetime.strptime(start_date, '%Y-%m-%d')\n",
    "    end_datetime = datetime.strptime(end_date, '%Y-%m-%d')\n",
    "    date_range = (end_datetime - start_datetime).days\n",
    "    random_days = random.randint(0, date_range)\n",
    "    result_date = start_datetime + timedelta(days=random_days)\n",
    "    return result_date.strftime('%Y-%m-%d')\n"
   ]
  },
  {
   "cell_type": "code",
   "execution_count": 79,
   "metadata": {},
   "outputs": [
    {
     "data": {
      "text/html": [
       "\n",
       "            <style>\n",
       "                .geemap-dark {\n",
       "                    --jp-widgets-color: white;\n",
       "                    --jp-widgets-label-color: white;\n",
       "                    --jp-ui-font-color1: white;\n",
       "                    --jp-layout-color2: #454545;\n",
       "                    background-color: #383838;\n",
       "                }\n",
       "                    \n",
       "                .geemap-dark .jupyter-button {\n",
       "                    --jp-layout-color3: #383838;\n",
       "                }\n",
       "                \n",
       "                .geemap-colab {\n",
       "                    background-color: var(--colab-primary-surface-color, white);\n",
       "                }\n",
       "                    \n",
       "                .geemap-colab .jupyter-button {\n",
       "                    --jp-layout-color3: var(--colab-primary-surface-color, white);\n",
       "                }\n",
       "            </style>\n",
       "            "
      ],
      "text/plain": [
       "<IPython.core.display.HTML object>"
      ]
     },
     "metadata": {},
     "output_type": "display_data"
    },
    {
     "name": "stdout",
     "output_type": "stream",
     "text": [
      "Location :  {'type': 'Point', 'coordinates': [3.636539403708367, 48.172182767187756]}\n",
      "Sentinel-1 Image: {'type': 'Image', 'bands': [{'id': 'VV', 'data_type': {'type': 'PixelType', 'precision': 'double'}, 'dimensions': [10981, 10981], 'origin': [4690, 3141], 'crs': 'EPSG:32631', 'crs_transform': [10, 0, 353048.90363419283, 0, -10, 5531446.667886629]}, {'id': 'VH', 'data_type': {'type': 'PixelType', 'precision': 'double'}, 'dimensions': [10981, 10981], 'origin': [4690, 3141], 'crs': 'EPSG:32631', 'crs_transform': [10, 0, 353048.90363419283, 0, -10, 5531446.667886629]}], 'version': 1704641070746501, 'id': 'COPERNICUS/S1_GRD/S1A_IW_GRDH_1SDV_20190917T055917_20190917T055942_029057_034C21_D3E4', 'properties': {'system:footprint': {'type': 'Polygon', 'coordinates': [[[1.6415267861124585, 48.657111198157146], [1.6415437860794122, 48.65711065044006], [3.132279975657313, 48.66504542524076], [3.1323428323677827, 48.66508186147119], [3.1324121140857897, 48.66511291516877], [3.1324164270445363, 48.66512765668449], [3.135075522402349, 49.65264402952511], [3.1350191557804377, 49.65268552683965], [3.1349712339705804, 49.65273131541504], [3.134948453232191, 49.65273419079665], [1.6142698157959112, 49.64452002146585], [1.6142068105225933, 49.64448274804218], [1.6141371711849533, 49.64445078322025], [1.6141332032532862, 49.64443596786457], [1.627955537674912, 49.15083636615083], [1.6414051723555532, 48.65719901899788], [1.6414616313693002, 48.65715826969771], [1.6415099495145984, 48.657113121028665], [1.6415267861124585, 48.657111198157146]]]}, 'SNAP_Graph_Processing_Framework_GPF_vers': '6.0.4', 'SLC_Processing_facility_org': 'ESA', 'SLC_Processing_facility_country': 'United Kingdom', 'GRD_Post_Processing_facility_org': 'ESA', 'transmitterReceiverPolarisation': ['VV', 'VH'], 'GRD_Post_Processing_start': 1568707956770, 'sliceNumber': 17, 'GRD_Post_Processing_facility_name': 'Copernicus S1 Core Ground Segment - UPA', 'resolution': 'H', 'SLC_Processing_facility_name': 'Copernicus S1 Core Ground Segment - UPA', 'familyName': 'SENTINEL-1', 'segmentStartTime': 1568699553330, 'missionDataTakeID': 216097, 'GRD_Post_Processing_facility_country': 'United Kingdom', 'nssdcIdentifier': '2014-016A', 'productClass': 'S', 'phaseIdentifier': 1, 'orbitProperties_pass': 'DESCENDING', 'relativeOrbitNumber_stop': 110, 'system:time_end': 1568699957000, 'SLC_Processing_facility_site': 'Airbus DS-Newport', 'GRD_Post_Processing_stop': 1568708640000, 'system:time_start': 1568699957000, 'instrumentMode': 'IW', 'totalSlices': 28, 'SLC_Processing_stop': 1568708418000, 'startTimeANX': 2148033, 'SLC_Processing_start': 1568708078000, 'resolution_meters': 10, 'instrumentSwath': 'IW', 'relativeOrbitNumber_start': 110, 'productTimelinessCategory': 'Fast-24h', 'SLC_Processing_software_name': 'Sentinel-1 IPF', 'sliceProductFlag': 'true', 'S1TBX_Calibration_vers': '6.0.4', 'orbitNumber_start': 29057, 'GRD_Post_Processing_facility_site': 'Airbus DS-Newport', 'instrument': 'Synthetic Aperture Radar', 'GRD_Post_Processing_software_name': 'Sentinel-1 IPF', 'platform_number': 'A', 'S1TBX_SAR_Processing_vers': '6.0.4', 'productType': 'GRD', 'orbitProperties_ascendingNodeTime': 1568697809000, 'stopTimeANX': 2173032, 'productComposition': 'Slice', 'productClassDescription': 'SAR Standard L1 Product', 'GRD_Post_Processing_software_version': '003.10', 'SLC_Processing_software_version': '003.10', 'orbitNumber_stop': 29057, 'instrumentConfigurationID': 6, 'system:asset_size': 4065823711, 'cycleNumber': 180, 'system:index': 'S1A_IW_GRDH_1SDV_20190917T055917_20190917T055942_029057_034C21_D3E4'}}\n",
      "Sentinel-2 Image: {'type': 'Image', 'bands': [{'id': 'B4', 'data_type': {'type': 'PixelType', 'precision': 'int', 'min': 0, 'max': 65535}, 'dimensions': [10980, 10980], 'crs': 'EPSG:32631', 'crs_transform': [10, 0, 399960, 0, -10, 5500020]}, {'id': 'B3', 'data_type': {'type': 'PixelType', 'precision': 'int', 'min': 0, 'max': 65535}, 'dimensions': [10980, 10980], 'crs': 'EPSG:32631', 'crs_transform': [10, 0, 399960, 0, -10, 5500020]}, {'id': 'B2', 'data_type': {'type': 'PixelType', 'precision': 'int', 'min': 0, 'max': 65535}, 'dimensions': [10980, 10980], 'crs': 'EPSG:32631', 'crs_transform': [10, 0, 399960, 0, -10, 5500020]}], 'id': 'COPERNICUS/S2/20190918T105029_20190918T105246_T31UDQ', 'version': 1569074574250523, 'properties': {'system:footprint': {'type': 'Polygon', 'coordinates': [[[1.6415267861124585, 48.657111198157146], [1.6415437860794122, 48.65711065044006], [3.132279975657313, 48.66504542524076], [3.1323428323677827, 48.66508186147119], [3.1324121140857897, 48.66511291516877], [3.1324164270445363, 48.66512765668449], [3.135075522402349, 49.65264402952511], [3.1350191557804377, 49.65268552683965], [3.1349712339705804, 49.65273131541504], [3.134948453232191, 49.65273419079665], [1.6142698157959112, 49.64452002146585], [1.6142068105225933, 49.64448274804218], [1.6141371711849533, 49.64445078322025], [1.6141332032532862, 49.64443596786457], [1.627955537674912, 49.15083636615083], [1.6414051723555532, 48.65719901899788], [1.6414616313693002, 48.65715826969771], [1.6415099495145984, 48.657113121028665], [1.6415267861124585, 48.657111198157146]]]}, 'DATATAKE_IDENTIFIER': 'GS2B_20190918T105029_013233_N02.08', 'SPACECRAFT_NAME': 'Sentinel-2B', 'MEAN_INCIDENCE_AZIMUTH_ANGLE_B8A': 104.831424587, 'MEAN_SOLAR_AZIMUTH_ANGLE': 164.109102198, 'SOLAR_IRRADIANCE_B12': 87.75, 'SOLAR_IRRADIANCE_B10': 365.41, 'SENSOR_QUALITY': 'PASSED', 'SOLAR_IRRADIANCE_B11': 247.08, 'GENERATION_TIME': 1568813036000, 'SOLAR_IRRADIANCE_B8A': 953.93, 'FORMAT_CORRECTNESS': 'PASSED', 'CLOUD_COVERAGE_ASSESSMENT': 30.9543, 'system:time_end': 1568804247440, 'system:time_start': 1568804247440, 'DATASTRIP_ID': 'S2B_OPER_MSI_L1C_DS_EPAE_20190918T132356_S20190918T105246_N02.08', 'PROCESSING_BASELINE': '02.08', 'SENSING_ORBIT_NUMBER': 51, 'SENSING_ORBIT_DIRECTION': 'DESCENDING', 'GENERAL_QUALITY': 'PASSED', 'GRANULE_ID': 'L1C_T31UDQ_A013233_20190918T105246', 'REFLECTANCE_CONVERSION_CORRECTION': 0.988903028719, 'MEAN_INCIDENCE_AZIMUTH_ANGLE_B8': 108.174811297, 'DATATAKE_TYPE': 'INS-NOBS', 'MEAN_INCIDENCE_AZIMUTH_ANGLE_B9': 104.553121448, 'MEAN_INCIDENCE_AZIMUTH_ANGLE_B6': 105.380884899, 'MEAN_INCIDENCE_AZIMUTH_ANGLE_B7': 105.116150032, 'MEAN_INCIDENCE_AZIMUTH_ANGLE_B4': 106.2746214, 'MEAN_INCIDENCE_ZENITH_ANGLE_B1': 4.89486439625, 'MEAN_INCIDENCE_AZIMUTH_ANGLE_B5': 105.827987828, 'RADIOMETRIC_QUALITY': 'PASSED', 'MEAN_INCIDENCE_AZIMUTH_ANGLE_B2': 109.159588651, 'MEAN_INCIDENCE_AZIMUTH_ANGLE_B3': 107.382363421, 'MEAN_INCIDENCE_ZENITH_ANGLE_B5': 4.65067275784, 'MEAN_INCIDENCE_AZIMUTH_ANGLE_B1': 104.751449999, 'MEAN_INCIDENCE_ZENITH_ANGLE_B4': 4.59950847899, 'MEAN_INCIDENCE_ZENITH_ANGLE_B3': 4.51693263295, 'MEAN_INCIDENCE_ZENITH_ANGLE_B2': 4.44663681679, 'MEAN_INCIDENCE_ZENITH_ANGLE_B9': 4.959784305, 'MEAN_INCIDENCE_ZENITH_ANGLE_B8': 4.47896844634, 'MEAN_INCIDENCE_ZENITH_ANGLE_B7': 4.76461156853, 'MEAN_INCIDENCE_ZENITH_ANGLE_B6': 4.70161227027, 'MEAN_SOLAR_ZENITH_ANGLE': 48.340719035, 'MEAN_INCIDENCE_ZENITH_ANGLE_B8A': 4.82685259268, 'MGRS_TILE': '31UDQ', 'CLOUDY_PIXEL_PERCENTAGE': 30.9543, 'PRODUCT_ID': 'S2B_MSIL1C_20190918T105029_N0208_R051_T31UDQ_20190918T132356', 'MEAN_INCIDENCE_ZENITH_ANGLE_B10': 4.57820403483, 'SOLAR_IRRADIANCE_B9': 817.58, 'DEGRADED_MSI_DATA_PERCENTAGE': 0, 'MEAN_INCIDENCE_ZENITH_ANGLE_B11': 4.70373599508, 'MEAN_INCIDENCE_ZENITH_ANGLE_B12': 4.83841474904, 'SOLAR_IRRADIANCE_B6': 1291.13, 'MEAN_INCIDENCE_AZIMUTH_ANGLE_B10': 106.753893546, 'SOLAR_IRRADIANCE_B5': 1425.78, 'MEAN_INCIDENCE_AZIMUTH_ANGLE_B11': 105.671943437, 'SOLAR_IRRADIANCE_B8': 1041.28, 'MEAN_INCIDENCE_AZIMUTH_ANGLE_B12': 105.021519465, 'SOLAR_IRRADIANCE_B7': 1175.57, 'SOLAR_IRRADIANCE_B2': 1959.77, 'SOLAR_IRRADIANCE_B1': 1874.3, 'SOLAR_IRRADIANCE_B4': 1512.79, 'GEOMETRIC_QUALITY': 'PASSED', 'SOLAR_IRRADIANCE_B3': 1824.93, 'system:asset_size': 1333077058, 'system:index': '20190918T105029_20190918T105246_T31UDQ'}}\n",
      "30.9543 percents of cloud coverage\n"
     ]
    },
    {
     "data": {
      "application/vnd.jupyter.widget-view+json": {
       "model_id": "8cecb8771d2040839a42d680a096aa2f",
       "version_major": 2,
       "version_minor": 0
      },
      "text/plain": [
       "Map(center=[0, 0], controls=(WidgetControl(options=['position', 'transparent_bg'], widget=SearchDataGUI(childr…"
      ]
     },
     "execution_count": 79,
     "metadata": {},
     "output_type": "execute_result"
    }
   ],
   "source": [
    "import random\n",
    "import geemap\n",
    "\n",
    "start_date = \"2018-01-01\"\n",
    "end_date = \"2022-01-01\"\n",
    "\n",
    "# Generate a random location within ~ France\n",
    "location  = sampleCoord()\n",
    "date = sampleDate(start_date, end_date)\n",
    "\n",
    "(sentinel1_image, sentinel2_image) = sampleSentinelData(\n",
    "    ee.Geometry.Point(location), ee.Date(date)\n",
    ")\n",
    "\n",
    "print(\"Sentinel-1 Image:\", sentinel1_image.getInfo())\n",
    "print(\"Sentinel-2 Image:\", sentinel2_image.getInfo())\n",
    "\n",
    "cloud_percent = sentinel2_image.getInfo()[\"properties\"][\"CLOUD_COVERAGE_ASSESSMENT\"]\n",
    "print(cloud_percent, \"percents of cloud coverage\")\n",
    "\n",
    "m = geemap.Map()\n",
    "m.add_layer(sentinel1_image, {\"min\": -25, \"max\": 5}, \"Sentinel-1\", True)\n",
    "m.add_layer(\n",
    "    sentinel2_image,\n",
    "    {\"bands\": [\"B4\", \"B3\", \"B2\"], \"min\": 0, \"max\": 65535, \"gamma\": 4.0},\n",
    "    \"Sentinel-2\",\n",
    "    True,\n",
    ")\n",
    "\n",
    "m"
   ]
  },
  {
   "cell_type": "markdown",
   "metadata": {},
   "source": []
  }
 ],
 "metadata": {
  "kernelspec": {
   "display_name": "projetTSAI",
   "language": "python",
   "name": "python3"
  },
  "language_info": {
   "codemirror_mode": {
    "name": "ipython",
    "version": 3
   },
   "file_extension": ".py",
   "mimetype": "text/x-python",
   "name": "python",
   "nbconvert_exporter": "python",
   "pygments_lexer": "ipython3",
   "version": "3.11.7"
  }
 },
 "nbformat": 4,
 "nbformat_minor": 2
}
