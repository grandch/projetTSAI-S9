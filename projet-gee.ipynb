{
 "cells": [
  {
   "cell_type": "code",
   "execution_count": null,
   "metadata": {},
   "outputs": [],
   "source": [
    "!pip install earthengine-api geemap --upgrade"
   ]
  },
  {
   "cell_type": "code",
   "execution_count": 1,
   "metadata": {},
   "outputs": [],
   "source": [
    "import ee\n",
    "\n",
    "ee.Initialize(project=\"ee-romdijoux\")\n",
    "\n",
    "# Collect Vertical Transmit-Vertical Receive (VV) and Vertical Transmit-Horizontal Receive (VH) bands from Sentinel-1 at 10m resolution.\n",
    "# https://developers.google.com/earth-engine/datasets/catalog/COPERNICUS_S1_GRD#description\n",
    "sentinel1 = (\n",
    "    ee.ImageCollection(\"COPERNICUS/S1_GRD\")\n",
    "    .filter(ee.Filter.listContains(\"transmitterReceiverPolarisation\", \"VV\"))\n",
    "    .filter(ee.Filter.listContains(\"transmitterReceiverPolarisation\", \"VH\"))\n",
    "    .filter(ee.Filter.eq(\"resolution_meters\", 10))\n",
    "    .select([\"VV\", \"VH\"])\n",
    ")\n",
    "\n",
    "# Load Sentinel-2 Level 1C data, only RGB bands (B4, B3, and B2) captured at 10m resolution\n",
    "# https://developers.google.com/earth-engine/datasets/catalog/COPERNICUS_S2#description\n",
    "sentinel2 = ee.ImageCollection(\"COPERNICUS/S2\").select([\"B4\", \"B3\", \"B2\"])\n"
   ]
  },
  {
   "cell_type": "code",
   "execution_count": 2,
   "metadata": {},
   "outputs": [],
   "source": [
    "def sampleSentinelData(location, date):\n",
    "    start_date = date.advance(-15, \"days\")\n",
    "    end_date = date.advance(15, \"days\")\n",
    "\n",
    "    sentinel1_image = (\n",
    "        sentinel1.filterDate(start_date, end_date).filterBounds(location).first()\n",
    "    )\n",
    "    sentinel2_image = (\n",
    "        sentinel2.filterDate(start_date, end_date)\n",
    "        .filterBounds(sentinel1_image.geometry().centroid())\n",
    "        .first()\n",
    "    )\n",
    "\n",
    "    sentinel1_image_clipped = sentinel1_image.clip(sentinel2_image.geometry())\n",
    "    sentinel2_image_clipped = sentinel2_image.clip(sentinel1_image_clipped.geometry())\n",
    "\n",
    "    return (sentinel1_image_clipped, sentinel2_image_clipped)"
   ]
  },
  {
   "cell_type": "code",
   "execution_count": 3,
   "metadata": {},
   "outputs": [],
   "source": [
    "from datetime import datetime, timedelta\n",
    "\n",
    "\n",
    "## TODO: add more location, this is returing locations mostly in France but can be in the ocean or in neighboring countries too\n",
    "def sampleCoord():\n",
    "    return [random.uniform(-5.0, 9.0), random.uniform(42.0, 51.0)]\n",
    "\n",
    "\n",
    "def sampleDate(start_date, end_date):\n",
    "    start_datetime = datetime.strptime(start_date, \"%Y-%m-%d\")\n",
    "    end_datetime = datetime.strptime(end_date, \"%Y-%m-%d\")\n",
    "    date_range = (end_datetime - start_datetime).days\n",
    "    random_days = random.randint(0, date_range)\n",
    "    result_date = start_datetime + timedelta(days=random_days)\n",
    "    return result_date.strftime(\"%Y-%m-%d\")"
   ]
  },
  {
   "cell_type": "code",
   "execution_count": 27,
   "metadata": {},
   "outputs": [
    {
     "data": {
      "text/html": [
       "\n",
       "            <style>\n",
       "                .geemap-dark {\n",
       "                    --jp-widgets-color: white;\n",
       "                    --jp-widgets-label-color: white;\n",
       "                    --jp-ui-font-color1: white;\n",
       "                    --jp-layout-color2: #454545;\n",
       "                    background-color: #383838;\n",
       "                }\n",
       "                    \n",
       "                .geemap-dark .jupyter-button {\n",
       "                    --jp-layout-color3: #383838;\n",
       "                }\n",
       "                \n",
       "                .geemap-colab {\n",
       "                    background-color: var(--colab-primary-surface-color, white);\n",
       "                }\n",
       "                    \n",
       "                .geemap-colab .jupyter-button {\n",
       "                    --jp-layout-color3: var(--colab-primary-surface-color, white);\n",
       "                }\n",
       "            </style>\n",
       "            "
      ],
      "text/plain": [
       "<IPython.core.display.HTML object>"
      ]
     },
     "metadata": {},
     "output_type": "display_data"
    },
    {
     "name": "stdout",
     "output_type": "stream",
     "text": [
      "Sentinel-1 Image: {'type': 'Image', 'bands': [{'id': 'VV', 'data_type': {'type': 'PixelType', 'precision': 'double'}, 'dimensions': [515, 517], 'origin': [9518, 15065], 'crs': 'EPSG:32630', 'crs_transform': [10, 0, 355218.1893714958, 0, -10, 5205823.707739933]}, {'id': 'VH', 'data_type': {'type': 'PixelType', 'precision': 'double'}, 'dimensions': [515, 517], 'origin': [9518, 15065], 'crs': 'EPSG:32630', 'crs_transform': [10, 0, 355218.1893714958, 0, -10, 5205823.707739933]}], 'version': 1704698728146265, 'id': 'COPERNICUS/S1_GRD/S1A_IW_GRDH_1SDV_20180301T180417_20180301T180442_020825_023B56_C843', 'properties': {'system:footprint': {'type': 'Polygon', 'coordinates': [[[-3.6359553100265773, 45.60222375608424], [-3.570506614830064, 45.602223756084236], [-3.570506614830064, 45.64828910041608], [-3.6359553100265773, 45.64828910041608], [-3.6359553100265773, 45.60222375608424]]]}, 'SNAP_Graph_Processing_Framework_GPF_vers': '6.0.4', 'SLC_Processing_facility_org': 'ESA', 'SLC_Processing_facility_country': 'Germany', 'GRD_Post_Processing_facility_org': 'ESA', 'transmitterReceiverPolarisation': ['VV', 'VH'], 'GRD_Post_Processing_start': 1519935673120, 'sliceNumber': 10, 'GRD_Post_Processing_facility_name': 'Copernicus S1 Core Ground Segment - DPA', 'resolution': 'H', 'SLC_Processing_facility_name': 'Copernicus S1 Core Ground Segment - DPA', 'familyName': 'SENTINEL-1', 'segmentStartTime': 1519927228830, 'missionDataTakeID': 146262, 'GRD_Post_Processing_facility_country': 'Germany', 'nssdcIdentifier': '2014-016A', 'productClass': 'S', 'phaseIdentifier': 1, 'orbitProperties_pass': 'ASCENDING', 'relativeOrbitNumber_stop': 103, 'SLC_Processing_facility_site': 'DLR-Oberpfaffenhofen', 'GRD_Post_Processing_stop': 1519936353000, 'system:time_start': 1519927457000, 'instrumentMode': 'IW', 'totalSlices': 21, 'SLC_Processing_stop': 1519936110000, 'startTimeANX': 735977.5, 'SLC_Processing_start': 1519935784000, 'resolution_meters': 10, 'instrumentSwath': 'IW', 'relativeOrbitNumber_start': 103, 'productTimelinessCategory': 'Fast-24h', 'SLC_Processing_software_name': 'Sentinel-1 IPF', 'sliceProductFlag': 'true', 'S1TBX_Calibration_vers': '6.0.4', 'orbitNumber_start': 20825, 'GRD_Post_Processing_facility_site': 'DLR-Oberpfaffenhofen', 'instrument': 'Synthetic Aperture Radar', 'GRD_Post_Processing_software_name': 'Sentinel-1 IPF', 'platform_number': 'A', 'S1TBX_SAR_Processing_vers': '6.0.4', 'productType': 'GRD', 'orbitProperties_ascendingNodeTime': 1519926721550, 'stopTimeANX': 760976.6, 'productComposition': 'Slice', 'productClassDescription': 'SAR Standard L1 Product', 'GRD_Post_Processing_software_version': '002.84', 'SLC_Processing_software_version': '002.84', 'orbitNumber_stop': 20825, 'instrumentConfigurationID': 6, 'system:asset_size': 4075175205, 'cycleNumber': 133, 'system:index': 'S1A_IW_GRDH_1SDV_20180301T180417_20180301T180442_020825_023B56_C843'}}\n",
      "Sentinel-2 Image: {'type': 'Image', 'bands': [{'id': 'B4', 'data_type': {'type': 'PixelType', 'precision': 'int', 'min': 0, 'max': 65535}, 'dimensions': [515, 516], 'origin': [5044, 4483], 'crs': 'EPSG:32630', 'crs_transform': [10, 0, 399960, 0, -10, 5100000]}, {'id': 'B3', 'data_type': {'type': 'PixelType', 'precision': 'int', 'min': 0, 'max': 65535}, 'dimensions': [515, 516], 'origin': [5044, 4483], 'crs': 'EPSG:32630', 'crs_transform': [10, 0, 399960, 0, -10, 5100000]}, {'id': 'B2', 'data_type': {'type': 'PixelType', 'precision': 'int', 'min': 0, 'max': 65535}, 'dimensions': [515, 516], 'origin': [5044, 4483], 'crs': 'EPSG:32630', 'crs_transform': [10, 0, 399960, 0, -10, 5100000]}], 'id': 'COPERNICUS/S2/20180303T110939_20180303T111405_T30TVR', 'version': 1617721284854994, 'properties': {'system:footprint': {'type': 'Polygon', 'coordinates': [[[-3.6359553100265773, 45.60222375608424], [-3.570506614830064, 45.602223756084236], [-3.570506614830064, 45.64828910041608], [-3.6359553100265773, 45.64828910041608], [-3.6359553100265773, 45.60222375608424]]]}, 'DATATAKE_IDENTIFIER': 'GS2B_20180303T110939_005168_N02.06', 'SPACECRAFT_NAME': 'Sentinel-2B', 'MEAN_INCIDENCE_AZIMUTH_ANGLE_B8A': 147.843618029, 'MEAN_SOLAR_AZIMUTH_ANGLE': 159.17047225, 'SOLAR_IRRADIANCE_B12': 87.75, 'SOLAR_IRRADIANCE_B10': 365.41, 'SENSOR_QUALITY': 'PASSED', 'SOLAR_IRRADIANCE_B11': 247.08, 'GENERATION_TIME': 1520076990000, 'quality_check': 'PASSED', 'SOLAR_IRRADIANCE_B8A': 953.93, 'FORMAT_CORRECTNESS': 'PASSED', 'CLOUD_COVERAGE_ASSESSMENT': 16.7976, 'system:time_end': 1520075645440, 'system:time_start': 1520075645440, 'DATASTRIP_ID': 'S2B_OPER_MSI_L1C_DS_MTI__20180303T113630_S20180303T111405_N02.06', 'PROCESSING_BASELINE': '02.06', 'SENSING_ORBIT_NUMBER': 137, 'SENSING_ORBIT_DIRECTION': 'DESCENDING', 'GENERAL_QUALITY': 'PASSED', 'GRANULE_ID': 'L1C_T30TVR_A005168_20180303T111405', 'REFLECTANCE_CONVERSION_CORRECTION': 1.01963876235, 'MEAN_INCIDENCE_AZIMUTH_ANGLE_B8': 152.799480413, 'DATATAKE_TYPE': 'INS-NOBS', 'MEAN_INCIDENCE_AZIMUTH_ANGLE_B9': 147.533108825, 'MEAN_INCIDENCE_AZIMUTH_ANGLE_B6': 148.652500102, 'MEAN_INCIDENCE_AZIMUTH_ANGLE_B7': 148.21342938, 'MEAN_INCIDENCE_AZIMUTH_ANGLE_B4': 149.846632552, 'MEAN_INCIDENCE_ZENITH_ANGLE_B1': 3.28832651755, 'MEAN_INCIDENCE_AZIMUTH_ANGLE_B5': 149.193562851, 'RADIOMETRIC_QUALITY': 'PASSED', 'MEAN_INCIDENCE_AZIMUTH_ANGLE_B2': 154.347638643, 'MEAN_INCIDENCE_AZIMUTH_ANGLE_B3': 151.582429594, 'MEAN_INCIDENCE_ZENITH_ANGLE_B5': 2.95447072593, 'MEAN_INCIDENCE_AZIMUTH_ANGLE_B1': 147.799887358, 'MEAN_INCIDENCE_ZENITH_ANGLE_B4': 2.88242715229, 'MEAN_INCIDENCE_ZENITH_ANGLE_B3': 2.75787846059, 'MEAN_INCIDENCE_ZENITH_ANGLE_B2': 2.65253616302, 'MEAN_INCIDENCE_ZENITH_ANGLE_B9': 3.38169759628, 'MEAN_INCIDENCE_ZENITH_ANGLE_B8': 2.70164501511, 'MEAN_INCIDENCE_ZENITH_ANGLE_B7': 3.11170412825, 'MEAN_INCIDENCE_ZENITH_ANGLE_B6': 3.03097955887, 'MEAN_SOLAR_ZENITH_ANGLE': 54.4561693507, 'MEAN_INCIDENCE_ZENITH_ANGLE_B8A': 3.19606095193, 'MGRS_TILE': '30TVR', 'CLOUDY_PIXEL_PERCENTAGE': 16.7976, 'PRODUCT_ID': 'S2B_MSIL1C_20180303T110939_N0206_R137_T30TVR_20180303T113630', 'MEAN_INCIDENCE_ZENITH_ANGLE_B10': 2.84236641612, 'SOLAR_IRRADIANCE_B9': 817.58, 'DEGRADED_MSI_DATA_PERCENTAGE': 0, 'MEAN_INCIDENCE_ZENITH_ANGLE_B11': 3.01553758012, 'MEAN_INCIDENCE_ZENITH_ANGLE_B12': 3.21766002044, 'SOLAR_IRRADIANCE_B6': 1291.13, 'MEAN_INCIDENCE_AZIMUTH_ANGLE_B10': 150.541775664, 'SOLAR_IRRADIANCE_B5': 1425.78, 'MEAN_INCIDENCE_AZIMUTH_ANGLE_B11': 149.001177023, 'SOLAR_IRRADIANCE_B8': 1041.28, 'MEAN_INCIDENCE_AZIMUTH_ANGLE_B12': 147.946024155, 'SOLAR_IRRADIANCE_B7': 1175.57, 'SOLAR_IRRADIANCE_B2': 1959.77, 'SOLAR_IRRADIANCE_B1': 1874.3, 'SOLAR_IRRADIANCE_B4': 1512.79, 'GEOMETRIC_QUALITY': 'PASSED', 'SOLAR_IRRADIANCE_B3': 1824.93, 'system:asset_size': 1078630212, 'system:index': '20180303T110939_20180303T111405_T30TVR'}}\n",
      "16.7976 percents of cloud coverage\n"
     ]
    },
    {
     "data": {
      "application/vnd.jupyter.widget-view+json": {
       "model_id": "0bcb315ff7434eaaa881da3f4ff4efe1",
       "version_major": 2,
       "version_minor": 0
      },
      "text/plain": [
       "Map(center=[0, 0], controls=(WidgetControl(options=['position', 'transparent_bg'], widget=SearchDataGUI(childr…"
      ]
     },
     "execution_count": 27,
     "metadata": {},
     "output_type": "execute_result"
    }
   ],
   "source": [
    "import random\n",
    "import geemap\n",
    "\n",
    "start_date = \"2018-01-01\"\n",
    "end_date = \"2022-01-01\"\n",
    "\n",
    "# Generate a random location within ~ France\n",
    "location  = sampleCoord()\n",
    "date = sampleDate(start_date, end_date)\n",
    "\n",
    "(sentinel1_image, sentinel2_image) = sampleSentinelData(\n",
    "    ee.Geometry.Point(location), ee.Date(date)\n",
    ")\n",
    "\n",
    "# rectangle of ~ 512x512\n",
    "bounds = sentinel1_image.geometry().centroid().buffer(distance=2560).bounds()\n",
    "\n",
    "sentinel1_image = sentinel1_image.clip(bounds)\n",
    "sentinel2_image = sentinel2_image.clip(bounds)\n",
    "\n",
    "print(\"Sentinel-1 Image:\", sentinel1_image.getInfo())\n",
    "print(\"Sentinel-2 Image:\", sentinel2_image.getInfo())\n",
    "\n",
    "cloud_percent = sentinel2_image.getInfo()[\"properties\"][\"CLOUD_COVERAGE_ASSESSMENT\"]\n",
    "print(cloud_percent, \"percents of cloud coverage\")\n",
    "\n",
    "m = geemap.Map()\n",
    "m.centerObject(sentinel1_image)\n",
    "m.add_layer(sentinel1_image, {\"min\": -25, \"max\": 5}, \"Sentinel-1\", True)\n",
    "m.add_layer(\n",
    "    sentinel2_image,\n",
    "    {\"bands\": [\"B4\", \"B3\", \"B2\"], \"min\": 0, \"max\": 65535, \"gamma\": 4.0},\n",
    "    \"Sentinel-2\",\n",
    "    True,\n",
    ")\n",
    "\n",
    "m"
   ]
  },
  {
   "cell_type": "code",
   "execution_count": 29,
   "metadata": {},
   "outputs": [
    {
     "data": {
      "text/html": [
       "\n",
       "            <style>\n",
       "                .geemap-dark {\n",
       "                    --jp-widgets-color: white;\n",
       "                    --jp-widgets-label-color: white;\n",
       "                    --jp-ui-font-color1: white;\n",
       "                    --jp-layout-color2: #454545;\n",
       "                    background-color: #383838;\n",
       "                }\n",
       "                    \n",
       "                .geemap-dark .jupyter-button {\n",
       "                    --jp-layout-color3: #383838;\n",
       "                }\n",
       "                \n",
       "                .geemap-colab {\n",
       "                    background-color: var(--colab-primary-surface-color, white);\n",
       "                }\n",
       "                    \n",
       "                .geemap-colab .jupyter-button {\n",
       "                    --jp-layout-color3: var(--colab-primary-surface-color, white);\n",
       "                }\n",
       "            </style>\n",
       "            "
      ],
      "text/plain": [
       "<IPython.core.display.HTML object>"
      ]
     },
     "metadata": {},
     "output_type": "display_data"
    }
   ],
   "source": [
    "# Export a bunch of samples to drive\n",
    "\n",
    "start_date = \"2018-01-01\"\n",
    "end_date = \"2022-01-01\"\n",
    "\n",
    "# can be dangerous to do more\n",
    "for i in range(100):\n",
    "    # Generate a random location within ~ France\n",
    "    location  = sampleCoord()\n",
    "    date = sampleDate(start_date, end_date)\n",
    "\n",
    "    (sentinel1_image, sentinel2_image) = sampleSentinelData(\n",
    "        ee.Geometry.Point(location), ee.Date(date)\n",
    "    )\n",
    "\n",
    "    sentinel1_image_info = sentinel1_image.getInfo()\n",
    "    sentinel2_image_info = sentinel2_image.getInfo()\n",
    "    # rectangle of ~ 512x512 (~2 to 14px differences)\n",
    "    roi = sentinel1_image.geometry().centroid().buffer(distance=2560).bounds()\n",
    "    cloud_coverage = sentinel2_image_info[\"properties\"][\"CLOUD_COVERAGE_ASSESSMENT\"]\n",
    "\n",
    "    description = \"cloud coverage: \" + str(cloud_coverage)\n",
    "\n",
    "    task = ee.batch.Export.image.toDrive(\n",
    "        image=sentinel1_image,\n",
    "        description='image_export'+ str(i),\n",
    "        folder='Sentinel1_samples',\n",
    "        fileNamePrefix= str(i) + '_sentinel1_'+ date + '_lat_' + str(location[0]) + '_long_' + str(location[1]),\n",
    "        region=roi,\n",
    "        dimensions='512x512',\n",
    "        crs='EPSG:32630'\n",
    "        )\n",
    "    task.start()\n",
    "\n",
    "    task = ee.batch.Export.image.toDrive(\n",
    "        image=sentinel2_image,\n",
    "        description='image_export'+ str(i),\n",
    "        folder='Sentinel2_samples',\n",
    "        fileNamePrefix= str(i) + '_sentinel2_'+ date + '_lat_' + str(location[0]) + '_long_' + str(location[1]) + '_cloud_coverage_' + str(cloud_coverage),\n",
    "        region=roi,\n",
    "        #scale=10, #resolution in meter per pixel\n",
    "        dimensions='512x512',\n",
    "        crs='EPSG:32630'\n",
    "        )\n",
    "    task.start()\n"
   ]
  },
  {
   "cell_type": "markdown",
   "metadata": {},
   "source": []
  }
 ],
 "metadata": {
  "kernelspec": {
   "display_name": "projetTSAI",
   "language": "python",
   "name": "python3"
  },
  "language_info": {
   "codemirror_mode": {
    "name": "ipython",
    "version": 3
   },
   "file_extension": ".py",
   "mimetype": "text/x-python",
   "name": "python",
   "nbconvert_exporter": "python",
   "pygments_lexer": "ipython3",
   "version": "3.11.7"
  }
 },
 "nbformat": 4,
 "nbformat_minor": 2
}
