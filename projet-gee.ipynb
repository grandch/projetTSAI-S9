{
 "cells": [
  {
   "cell_type": "code",
   "execution_count": 14,
   "metadata": {},
   "outputs": [
    {
     "data": {
      "text/html": [
       "\n",
       "            <style>\n",
       "                .geemap-dark {\n",
       "                    --jp-widgets-color: white;\n",
       "                    --jp-widgets-label-color: white;\n",
       "                    --jp-ui-font-color1: white;\n",
       "                    --jp-layout-color2: #454545;\n",
       "                    background-color: #383838;\n",
       "                }\n",
       "                    \n",
       "                .geemap-dark .jupyter-button {\n",
       "                    --jp-layout-color3: #383838;\n",
       "                }\n",
       "                \n",
       "                .geemap-colab {\n",
       "                    background-color: var(--colab-primary-surface-color, white);\n",
       "                }\n",
       "                    \n",
       "                .geemap-colab .jupyter-button {\n",
       "                    --jp-layout-color3: var(--colab-primary-surface-color, white);\n",
       "                }\n",
       "            </style>\n",
       "            "
      ],
      "text/plain": [
       "<IPython.core.display.HTML object>"
      ]
     },
     "metadata": {},
     "output_type": "display_data"
    },
    {
     "name": "stdout",
     "output_type": "stream",
     "text": [
      "Requirement already satisfied: earthengine-api in /var/home/rain/.pyenv/versions/3.11.7/envs/projetTSAI/lib/python3.11/site-packages (0.1.384)\n",
      "Requirement already satisfied: google-cloud-storage in /var/home/rain/.pyenv/versions/3.11.7/envs/projetTSAI/lib/python3.11/site-packages (from earthengine-api) (2.14.0)\n",
      "Requirement already satisfied: google-api-python-client>=1.12.1 in /var/home/rain/.pyenv/versions/3.11.7/envs/projetTSAI/lib/python3.11/site-packages (from earthengine-api) (2.112.0)\n",
      "Requirement already satisfied: google-auth>=1.4.1 in /var/home/rain/.pyenv/versions/3.11.7/envs/projetTSAI/lib/python3.11/site-packages (from earthengine-api) (2.26.1)\n",
      "Requirement already satisfied: google-auth-httplib2>=0.0.3 in /var/home/rain/.pyenv/versions/3.11.7/envs/projetTSAI/lib/python3.11/site-packages (from earthengine-api) (0.2.0)\n",
      "Requirement already satisfied: httplib2<1dev,>=0.9.2 in /var/home/rain/.pyenv/versions/3.11.7/envs/projetTSAI/lib/python3.11/site-packages (from earthengine-api) (0.22.0)\n",
      "Requirement already satisfied: requests in /var/home/rain/.pyenv/versions/3.11.7/envs/projetTSAI/lib/python3.11/site-packages (from earthengine-api) (2.31.0)\n",
      "Requirement already satisfied: google-api-core!=2.0.*,!=2.1.*,!=2.2.*,!=2.3.0,<3.0.0.dev0,>=1.31.5 in /var/home/rain/.pyenv/versions/3.11.7/envs/projetTSAI/lib/python3.11/site-packages (from google-api-python-client>=1.12.1->earthengine-api) (2.15.0)\n",
      "Requirement already satisfied: uritemplate<5,>=3.0.1 in /var/home/rain/.pyenv/versions/3.11.7/envs/projetTSAI/lib/python3.11/site-packages (from google-api-python-client>=1.12.1->earthengine-api) (4.1.1)\n",
      "Requirement already satisfied: cachetools<6.0,>=2.0.0 in /var/home/rain/.pyenv/versions/3.11.7/envs/projetTSAI/lib/python3.11/site-packages (from google-auth>=1.4.1->earthengine-api) (5.3.2)\n",
      "Requirement already satisfied: pyasn1-modules>=0.2.1 in /var/home/rain/.pyenv/versions/3.11.7/envs/projetTSAI/lib/python3.11/site-packages (from google-auth>=1.4.1->earthengine-api) (0.3.0)\n",
      "Requirement already satisfied: rsa<5,>=3.1.4 in /var/home/rain/.pyenv/versions/3.11.7/envs/projetTSAI/lib/python3.11/site-packages (from google-auth>=1.4.1->earthengine-api) (4.9)\n",
      "Requirement already satisfied: pyparsing!=3.0.0,!=3.0.1,!=3.0.2,!=3.0.3,<4,>=2.4.2 in /var/home/rain/.pyenv/versions/3.11.7/envs/projetTSAI/lib/python3.11/site-packages (from httplib2<1dev,>=0.9.2->earthengine-api) (3.1.1)\n",
      "Requirement already satisfied: google-cloud-core<3.0dev,>=2.3.0 in /var/home/rain/.pyenv/versions/3.11.7/envs/projetTSAI/lib/python3.11/site-packages (from google-cloud-storage->earthengine-api) (2.4.1)\n",
      "Requirement already satisfied: google-resumable-media>=2.6.0 in /var/home/rain/.pyenv/versions/3.11.7/envs/projetTSAI/lib/python3.11/site-packages (from google-cloud-storage->earthengine-api) (2.7.0)\n",
      "Requirement already satisfied: google-crc32c<2.0dev,>=1.0 in /var/home/rain/.pyenv/versions/3.11.7/envs/projetTSAI/lib/python3.11/site-packages (from google-cloud-storage->earthengine-api) (1.5.0)\n",
      "Requirement already satisfied: charset-normalizer<4,>=2 in /var/home/rain/.pyenv/versions/3.11.7/envs/projetTSAI/lib/python3.11/site-packages (from requests->earthengine-api) (3.3.2)\n",
      "Requirement already satisfied: idna<4,>=2.5 in /var/home/rain/.pyenv/versions/3.11.7/envs/projetTSAI/lib/python3.11/site-packages (from requests->earthengine-api) (3.6)\n",
      "Requirement already satisfied: urllib3<3,>=1.21.1 in /var/home/rain/.pyenv/versions/3.11.7/envs/projetTSAI/lib/python3.11/site-packages (from requests->earthengine-api) (2.0.7)\n",
      "Requirement already satisfied: certifi>=2017.4.17 in /var/home/rain/.pyenv/versions/3.11.7/envs/projetTSAI/lib/python3.11/site-packages (from requests->earthengine-api) (2023.11.17)\n",
      "Requirement already satisfied: googleapis-common-protos<2.0.dev0,>=1.56.2 in /var/home/rain/.pyenv/versions/3.11.7/envs/projetTSAI/lib/python3.11/site-packages (from google-api-core!=2.0.*,!=2.1.*,!=2.2.*,!=2.3.0,<3.0.0.dev0,>=1.31.5->google-api-python-client>=1.12.1->earthengine-api) (1.62.0)\n",
      "Requirement already satisfied: protobuf!=3.20.0,!=3.20.1,!=4.21.0,!=4.21.1,!=4.21.2,!=4.21.3,!=4.21.4,!=4.21.5,<5.0.0.dev0,>=3.19.5 in /var/home/rain/.pyenv/versions/3.11.7/envs/projetTSAI/lib/python3.11/site-packages (from google-api-core!=2.0.*,!=2.1.*,!=2.2.*,!=2.3.0,<3.0.0.dev0,>=1.31.5->google-api-python-client>=1.12.1->earthengine-api) (4.25.1)\n",
      "Requirement already satisfied: pyasn1<0.6.0,>=0.4.6 in /var/home/rain/.pyenv/versions/3.11.7/envs/projetTSAI/lib/python3.11/site-packages (from pyasn1-modules>=0.2.1->google-auth>=1.4.1->earthengine-api) (0.5.1)\n",
      "\n",
      "\u001b[1m[\u001b[0m\u001b[34;49mnotice\u001b[0m\u001b[1;39;49m]\u001b[0m\u001b[39;49m A new release of pip is available: \u001b[0m\u001b[31;49m23.2.1\u001b[0m\u001b[39;49m -> \u001b[0m\u001b[32;49m23.3.2\u001b[0m\n",
      "\u001b[1m[\u001b[0m\u001b[34;49mnotice\u001b[0m\u001b[1;39;49m]\u001b[0m\u001b[39;49m To update, run: \u001b[0m\u001b[32;49mpip install --upgrade pip\u001b[0m\n"
     ]
    }
   ],
   "source": [
    "!pip install earthengine-api --upgrade"
   ]
  },
  {
   "cell_type": "code",
   "execution_count": 15,
   "metadata": {},
   "outputs": [
    {
     "data": {
      "text/html": [
       "\n",
       "            <style>\n",
       "                .geemap-dark {\n",
       "                    --jp-widgets-color: white;\n",
       "                    --jp-widgets-label-color: white;\n",
       "                    --jp-ui-font-color1: white;\n",
       "                    --jp-layout-color2: #454545;\n",
       "                    background-color: #383838;\n",
       "                }\n",
       "                    \n",
       "                .geemap-dark .jupyter-button {\n",
       "                    --jp-layout-color3: #383838;\n",
       "                }\n",
       "                \n",
       "                .geemap-colab {\n",
       "                    background-color: var(--colab-primary-surface-color, white);\n",
       "                }\n",
       "                    \n",
       "                .geemap-colab .jupyter-button {\n",
       "                    --jp-layout-color3: var(--colab-primary-surface-color, white);\n",
       "                }\n",
       "            </style>\n",
       "            "
      ],
      "text/plain": [
       "<IPython.core.display.HTML object>"
      ]
     },
     "metadata": {},
     "output_type": "display_data"
    }
   ],
   "source": [
    "import ee\n",
    "\n",
    "start_date = \"2022-01-01\"\n",
    "end_date = \"2022-02-01\"\n",
    "\n",
    "ee.Initialize(project=\"ee-romdijoux\")\n",
    "\n",
    "# Collect Vertical Transmit-Vertical Receive (VV) and Vertical Transmit-Horizontal Receive (VH) bands from Sentinel-1 at 10m resolution.\n",
    "sentinel1 = (\n",
    "    ee.ImageCollection(\"COPERNICUS/S1_GRD\")\n",
    "    .filterDate(ee.Date(start_date), ee.Date(end_date))\n",
    "    .filter(ee.Filter.listContains(\"transmitterReceiverPolarisation\", \"VV\"))\n",
    "    .filter(ee.Filter.listContains(\"transmitterReceiverPolarisation\", \"VH\"))\n",
    "    .filter(ee.Filter.eq(\"resolution_meters\", 10))\n",
    "    .select([\"VV\", \"VH\"])\n",
    ")\n",
    "\n",
    "# Load Sentinel-2 Level 1C data, only RGB bands (B4, B3, and B2) captured at 10m resolution\n",
    "\n",
    "sentinel2 = (\n",
    "    ee.ImageCollection(\"COPERNICUS/S2\")\n",
    "    .filterDate(ee.Date(start_date), ee.Date(end_date))\n",
    "    .select([\"B4\", \"B3\", \"B2\"])\n",
    ")\n"
   ]
  },
  {
   "cell_type": "code",
   "execution_count": 55,
   "metadata": {},
   "outputs": [
    {
     "data": {
      "text/html": [
       "\n",
       "            <style>\n",
       "                .geemap-dark {\n",
       "                    --jp-widgets-color: white;\n",
       "                    --jp-widgets-label-color: white;\n",
       "                    --jp-ui-font-color1: white;\n",
       "                    --jp-layout-color2: #454545;\n",
       "                    background-color: #383838;\n",
       "                }\n",
       "                    \n",
       "                .geemap-dark .jupyter-button {\n",
       "                    --jp-layout-color3: #383838;\n",
       "                }\n",
       "                \n",
       "                .geemap-colab {\n",
       "                    background-color: var(--colab-primary-surface-color, white);\n",
       "                }\n",
       "                    \n",
       "                .geemap-colab .jupyter-button {\n",
       "                    --jp-layout-color3: var(--colab-primary-surface-color, white);\n",
       "                }\n",
       "            </style>\n",
       "            "
      ],
      "text/plain": [
       "<IPython.core.display.HTML object>"
      ]
     },
     "metadata": {},
     "output_type": "display_data"
    },
    {
     "name": "stdout",
     "output_type": "stream",
     "text": [
      "Random Location: {'type': 'Point', 'coordinates': [3.1303925311646914, 49.184565526802125]}\n",
      "Sentinel-1 Image: {'type': 'Image', 'bands': [{'id': 'VV', 'data_type': {'type': 'PixelType', 'precision': 'double'}, 'dimensions': [29571, 21357], 'crs': 'EPSG:32631', 'crs_transform': [10, 0, 352934.2637481166, 0, -10, 5531510.660520781]}, {'id': 'VH', 'data_type': {'type': 'PixelType', 'precision': 'double'}, 'dimensions': [29571, 21357], 'crs': 'EPSG:32631', 'crs_transform': [10, 0, 352934.2637481166, 0, -10, 5531510.660520781]}], 'version': 1704482649508402, 'id': 'COPERNICUS/S1_GRD/S1A_IW_GRDH_1SDV_20220104T055927_20220104T055952_041307_04E90C_1F22', 'properties': {'SNAP_Graph_Processing_Framework_GPF_vers': '8.0.3', 'SLC_Processing_facility_org': 'ESA', 'SLC_Processing_facility_country': 'France', 'GRD_Post_Processing_facility_org': 'ESA', 'transmitterReceiverPolarisation': ['VV', 'VH'], 'GRD_Post_Processing_start': 1641283435743, 'sliceNumber': 17, 'GRD_Post_Processing_facility_name': 'Copernicus S1 Core Ground Segment - TLS', 'resolution': 'H', 'SLC_Processing_facility_name': 'Copernicus S1 Core Ground Segment - TLS', 'system:footprint': {'type': 'LinearRing', 'coordinates': [[1.1445961529710584, 48.41222139071707], [1.1446507995672621, 48.41072076508051], [1.8534695978316817, 48.33662388032571], [3.0495593444868274, 48.20116817300776], [4.478701817719916, 48.02198055883131], [4.493554556893291, 48.063605149313226], [4.575322823550239, 48.33314910368173], [4.6170662261892454, 48.47004637192674], [4.666215862222788, 48.63209720120476], [4.704960424741889, 48.75940476017666], [4.8766833956160065, 49.34028778234075], [4.927060063453676, 49.50894234783382], [4.928512616553903, 49.51841264941146], [4.889790569660664, 49.52342001737554], [3.2163905354053752, 49.72619066599336], [1.49566377362765, 49.90794572457455], [1.493777849915221, 49.907921251558], [1.492067292261905, 49.90243018434584], [1.4780492212293355, 49.84841256794264], [1.4547002498086294, 49.75109170486477], [1.4242690672991793, 49.62331116784672], [1.2828298533467888, 49.017866303803025], [1.1445961529710584, 48.41222139071707]]}, 'familyName': 'SENTINEL-1', 'segmentStartTime': 1641275563620, 'missionDataTakeID': 321804, 'GRD_Post_Processing_facility_country': 'France', 'nssdcIdentifier': '2014-016A', 'productClass': 'S', 'phaseIdentifier': 1, 'orbitProperties_pass': 'DESCENDING', 'relativeOrbitNumber_stop': 110, 'system:time_end': 1641275967000, 'SLC_Processing_facility_site': 'Airbus Defence and Space-Toulouse', 'GRD_Post_Processing_stop': 1641284301000, 'system:time_start': 1641275967000, 'instrumentMode': 'IW', 'totalSlices': 28, 'SLC_Processing_stop': 1641283999000, 'startTimeANX': 2148060, 'SLC_Processing_start': 1641283630000, 'resolution_meters': 10, 'instrumentSwath': 'IW', 'relativeOrbitNumber_start': 110, 'productTimelinessCategory': 'NRT-3h', 'SLC_Processing_software_name': 'Sentinel-1 IPF', 'sliceProductFlag': 'true', 'S1TBX_Calibration_vers': '8.0.3', 'orbitNumber_start': 41307, 'GRD_Post_Processing_facility_site': 'Airbus Defence and Space-Toulouse', 'instrument': 'Synthetic Aperture Radar', 'GRD_Post_Processing_software_name': 'Sentinel-1 IPF', 'platform_number': 'A', 'S1TBX_SAR_Processing_vers': '8.0.3', 'productType': 'GRD', 'orbitProperties_ascendingNodeTime': 1641273819261, 'stopTimeANX': 2173057, 'productComposition': 'Slice', 'productClassDescription': 'SAR Standard L1 Product', 'GRD_Post_Processing_software_version': '003.40', 'SLC_Processing_software_version': '003.40', 'orbitNumber_stop': 41307, 'instrumentConfigurationID': 7, 'system:asset_size': 4029851571, 'cycleNumber': 250, 'system:index': 'S1A_IW_GRDH_1SDV_20220104T055927_20220104T055952_041307_04E90C_1F22'}}\n",
      "Sentinel-2 Image: {'type': 'Image', 'bands': [{'id': 'B4', 'data_type': {'type': 'PixelType', 'precision': 'int', 'min': 0, 'max': 65535}, 'dimensions': [10980, 10980], 'crs': 'EPSG:32631', 'crs_transform': [10, 0, 399960, 0, -10, 5500020]}, {'id': 'B3', 'data_type': {'type': 'PixelType', 'precision': 'int', 'min': 0, 'max': 65535}, 'dimensions': [10980, 10980], 'crs': 'EPSG:32631', 'crs_transform': [10, 0, 399960, 0, -10, 5500020]}, {'id': 'B2', 'data_type': {'type': 'PixelType', 'precision': 'int', 'min': 0, 'max': 65535}, 'dimensions': [10980, 10980], 'crs': 'EPSG:32631', 'crs_transform': [10, 0, 399960, 0, -10, 5500020]}], 'id': 'COPERNICUS/S2/20220105T105339_20220105T105335_T31UDQ', 'version': 1641402842368089, 'properties': {'DATATAKE_IDENTIFIER': 'GS2B_20220105T105339_025245_N03.01', 'SPACECRAFT_NAME': 'Sentinel-2B', 'MEAN_INCIDENCE_AZIMUTH_ANGLE_B8A': 105.04253907006, 'MEAN_SOLAR_AZIMUTH_ANGLE': 165.902803687211, 'system:footprint': {'type': 'LinearRing', 'coordinates': [[1.6415267861124583, 48.657111198157146], [1.6415437860794122, 48.65711065044007], [3.132279975657313, 48.665045425240756], [3.1323428323677827, 48.66508186147119], [3.1324121140857892, 48.66511291516876], [3.1324164270445363, 48.66512765668449], [3.135075522402349, 49.65264402952511], [3.135019155780438, 49.65268552683965], [3.1349712339705804, 49.65273131541504], [3.134948453232191, 49.65273419079665], [1.6142698157959117, 49.64452002146586], [1.6142068105225933, 49.64448274804218], [1.6141371711849533, 49.64445078322025], [1.614133203253286, 49.64443596786457], [1.6279555376749122, 49.15083636615083], [1.6414051723555532, 48.65719901899788], [1.6414616313693002, 48.6571582696977], [1.641509949514598, 48.657113121028665], [1.6415267861124583, 48.657111198157146]]}, 'SOLAR_IRRADIANCE_B12': 87.75, 'SOLAR_IRRADIANCE_B10': 365.41, 'SENSOR_QUALITY': 'PASSED', 'SOLAR_IRRADIANCE_B11': 247.08, 'GENERATION_TIME': 1641387297000, 'SOLAR_IRRADIANCE_B8A': 953.93, 'FORMAT_CORRECTNESS': 'PASSED', 'CLOUD_COVERAGE_ASSESSMENT': 4.0259, 'system:time_end': 1641380244438, 'system:time_start': 1641380244438, 'DATASTRIP_ID': 'S2B_OPER_MSI_L1C_DS_VGS2_20220105T125457_S20220105T105335_N03.01', 'PROCESSING_BASELINE': '03.01', 'SENSING_ORBIT_NUMBER': 51, 'SENSING_ORBIT_DIRECTION': 'DESCENDING', 'GENERAL_QUALITY': 'PASSED', 'GRANULE_ID': 'L1C_T31UDQ_A025245_20220105T105335', 'REFLECTANCE_CONVERSION_CORRECTION': 1.03430282905513, 'MEAN_INCIDENCE_AZIMUTH_ANGLE_B8': 108.337259780808, 'DATATAKE_TYPE': 'INS-NOBS', 'MEAN_INCIDENCE_AZIMUTH_ANGLE_B9': 104.535778464309, 'MEAN_INCIDENCE_AZIMUTH_ANGLE_B6': 105.62433337353, 'MEAN_INCIDENCE_AZIMUTH_ANGLE_B7': 105.324211038272, 'MEAN_INCIDENCE_AZIMUTH_ANGLE_B4': 106.462327370155, 'MEAN_INCIDENCE_ZENITH_ANGLE_B1': 4.88418461364521, 'MEAN_INCIDENCE_AZIMUTH_ANGLE_B5': 106.045385715855, 'RADIOMETRIC_QUALITY': 'PASSED', 'MEAN_INCIDENCE_AZIMUTH_ANGLE_B2': 109.326918235177, 'MEAN_INCIDENCE_AZIMUTH_ANGLE_B3': 107.553254929673, 'MEAN_INCIDENCE_ZENITH_ANGLE_B5': 4.64621868407688, 'MEAN_INCIDENCE_AZIMUTH_ANGLE_B1': 104.756040078974, 'MEAN_INCIDENCE_ZENITH_ANGLE_B4': 4.59402985530779, 'MEAN_INCIDENCE_ZENITH_ANGLE_B3': 4.51751579676665, 'MEAN_INCIDENCE_ZENITH_ANGLE_B2': 4.44514081300853, 'MEAN_INCIDENCE_ZENITH_ANGLE_B9': 4.95458593730598, 'MEAN_INCIDENCE_ZENITH_ANGLE_B8': 4.47729256584921, 'MEAN_INCIDENCE_ZENITH_ANGLE_B7': 4.7541899293334, 'MEAN_INCIDENCE_ZENITH_ANGLE_B6': 4.70009654080331, 'MEAN_SOLAR_ZENITH_ANGLE': 72.9175631273884, 'MEAN_INCIDENCE_ZENITH_ANGLE_B8A': 4.81643176155312, 'MGRS_TILE': '31UDQ', 'CLOUDY_PIXEL_PERCENTAGE': 4.0259, 'PRODUCT_ID': 'S2B_MSIL1C_20220105T105339_N0301_R051_T31UDQ_20220105T125457', 'MEAN_INCIDENCE_ZENITH_ANGLE_B10': 4.56952313790765, 'SOLAR_IRRADIANCE_B9': 817.58, 'DEGRADED_MSI_DATA_PERCENTAGE': 0, 'MEAN_INCIDENCE_ZENITH_ANGLE_B11': 4.69553417794187, 'MEAN_INCIDENCE_ZENITH_ANGLE_B12': 4.83073103656987, 'SOLAR_IRRADIANCE_B6': 1291.13, 'MEAN_INCIDENCE_AZIMUTH_ANGLE_B10': 106.882392259924, 'SOLAR_IRRADIANCE_B5': 1425.78, 'MEAN_INCIDENCE_AZIMUTH_ANGLE_B11': 105.804088992258, 'SOLAR_IRRADIANCE_B8': 1041.28, 'MEAN_INCIDENCE_AZIMUTH_ANGLE_B12': 104.999857834759, 'SOLAR_IRRADIANCE_B7': 1175.57, 'SOLAR_IRRADIANCE_B2': 1959.75, 'SOLAR_IRRADIANCE_B1': 1874.3, 'SOLAR_IRRADIANCE_B4': 1512.79, 'GEOMETRIC_QUALITY': 'PASSED', 'SOLAR_IRRADIANCE_B3': 1824.93, 'system:asset_size': 1317341679, 'system:index': '20220105T105339_20220105T105335_T31UDQ'}}\n"
     ]
    },
    {
     "data": {
      "application/vnd.jupyter.widget-view+json": {
       "model_id": "c5d0ff3d3c414f02bd6e0226f6fb6e1e",
       "version_major": 2,
       "version_minor": 0
      },
      "text/plain": [
       "Map(center=[0, 0], controls=(WidgetControl(options=['position', 'transparent_bg'], widget=SearchDataGUI(childr…"
      ]
     },
     "execution_count": 55,
     "metadata": {},
     "output_type": "execute_result"
    }
   ],
   "source": [
    "import random\n",
    "import geemap\n",
    "\n",
    "# Generate a random location within ~ France\n",
    "random_point = ee.Geometry.Point(\n",
    "    [random.uniform(-5.0, 9.0), random.uniform(42.0, 51.0)]\n",
    ")\n",
    "\n",
    "# Good point\n",
    "random_point = ee.Geometry.Point([3.1303925311646914, 49.184565526802125])\n",
    "\n",
    "print(\"Random Location:\", random_point.getInfo())\n",
    "\n",
    "result1 = sentinel1.filterBounds(random_point)\n",
    "sentinel1_image = result1.first()\n",
    "print(\"Sentinel-1 Image:\", sentinel1_image.getInfo())\n",
    "\n",
    "result2 = sentinel2.filterBounds(random_point)\n",
    "sentinel2_image = result2.first()\n",
    "print(\"Sentinel-2 Image:\", sentinel2_image.getInfo())\n",
    "\n",
    "m = geemap.Map()\n",
    "m.add_layer(sentinel1_image, {\"min\": -25, \"max\": 5}, \"Sentinel-1\", True)\n",
    "m.add_layer(\n",
    "    sentinel2_image,\n",
    "    {\"bands\": [\"B4\", \"B3\", \"B2\"], \"min\": 0, \"max\": 65535, \"gamma\": 2.5},\n",
    "    \"Sentinel-2\",\n",
    "    True,\n",
    ")\n",
    "\n",
    "m"
   ]
  }
 ],
 "metadata": {
  "kernelspec": {
   "display_name": "projetTSAI",
   "language": "python",
   "name": "python3"
  },
  "language_info": {
   "codemirror_mode": {
    "name": "ipython",
    "version": 3
   },
   "file_extension": ".py",
   "mimetype": "text/x-python",
   "name": "python",
   "nbconvert_exporter": "python",
   "pygments_lexer": "ipython3",
   "version": "3.11.7"
  }
 },
 "nbformat": 4,
 "nbformat_minor": 2
}
